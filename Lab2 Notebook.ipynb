{
 "cells": [
  {
   "cell_type": "code",
   "execution_count": null,
   "id": "a1f9ff46",
   "metadata": {},
   "outputs": [],
   "source": [
    "[![Open in Colab](https://colab.research.google.com/assets/colab-badge.svg)](https://colab.research.google.com/github/lukemlawley)"
   ]
  },
  {
   "cell_type": "code",
   "execution_count": 4,
   "id": "39ac0651",
   "metadata": {},
   "outputs": [
    {
     "name": "stdout",
     "output_type": "stream",
     "text": [
      "Luke Lawley\n"
     ]
    }
   ],
   "source": [
    "print(\"Luke Lawley\")"
   ]
  },
  {
   "cell_type": "code",
   "execution_count": 3,
   "id": "6b24d358",
   "metadata": {},
   "outputs": [
    {
     "name": "stdout",
     "output_type": "stream",
     "text": [
      "Yeah, I'm not going to lie Dr. Wu, I'm prettybad at Jupyter Notebook...\n"
     ]
    }
   ],
   "source": [
    "print(\"Yeah, I'm not going to lie Dr. Wu, I'm prettybad at Jupyter Notebook...\")"
   ]
  },
  {
   "cell_type": "code",
   "execution_count": 2,
   "id": "0c866890",
   "metadata": {},
   "outputs": [
    {
     "name": "stdout",
     "output_type": "stream",
     "text": [
      "That's alright for now though, it is just going to take some practice.\n",
      "36\n"
     ]
    }
   ],
   "source": [
    "print(\"That's alright for now though, it is just going to take some practice.\")\n",
    "\n",
    "x = 12\n",
    "y = 24\n",
    "print(x+y)"
   ]
  }
 ],
 "metadata": {
  "kernelspec": {
   "display_name": "Python 3",
   "language": "python",
   "name": "python3"
  },
  "language_info": {
   "codemirror_mode": {
    "name": "ipython",
    "version": 3
   },
   "file_extension": ".py",
   "mimetype": "text/x-python",
   "name": "python",
   "nbconvert_exporter": "python",
   "pygments_lexer": "ipython3",
   "version": "3.9.11"
  }
 },
 "nbformat": 4,
 "nbformat_minor": 5
}
